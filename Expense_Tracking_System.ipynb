{
  "nbformat": 4,
  "nbformat_minor": 0,
  "metadata": {
    "colab": {
      "provenance": []
    },
    "kernelspec": {
      "name": "python3",
      "display_name": "Python 3"
    },
    "language_info": {
      "name": "python"
    }
  },
  "cells": [
    {
      "cell_type": "markdown",
      "source": [
        "EXPENSE TRACKING SYSTEM\n",
        "FUNCTIONS:\n",
        "1. add_expense\n",
        "2. view_expenses\n",
        "3. calculate_total"
      ],
      "metadata": {
        "id": "qdgb-EddzGSD"
      }
    },
    {
      "cell_type": "code",
      "execution_count": null,
      "metadata": {
        "id": "lDAgNge1xx2t",
        "colab": {
          "base_uri": "https://localhost:8080/"
        },
        "outputId": "94f1703a-497a-4132-982f-da9ed522bc38"
      },
      "outputs": [
        {
          "output_type": "stream",
          "name": "stdout",
          "text": [
            "\n",
            "Expense Tracking System\n",
            "1. Add an expense\n",
            "2. View all expenses\n",
            "3. Calculate total expenses\n",
            "4. Exit\n",
            "Enter your choice: 1\n",
            "Enter a description for the expense: pizza\n",
            "Enter the amount of the expense: 400\n",
            "Expense pizza of 400.0 added.\n",
            "\n",
            "Expense Tracking System\n",
            "1. Add an expense\n",
            "2. View all expenses\n",
            "3. Calculate total expenses\n",
            "4. Exit\n",
            "Enter your choice: 2\n",
            "Expenses:\n",
            "1. pizza - Rs400.00\n",
            "\n",
            "Expense Tracking System\n",
            "1. Add an expense\n",
            "2. View all expenses\n",
            "3. Calculate total expenses\n",
            "4. Exit\n",
            "Enter your choice: 1\n",
            "Enter a description for the expense: coke\n",
            "Enter the amount of the expense: 90\n",
            "Expense coke of 90.0 added.\n",
            "\n",
            "Expense Tracking System\n",
            "1. Add an expense\n",
            "2. View all expenses\n",
            "3. Calculate total expenses\n",
            "4. Exit\n",
            "Enter your choice: 3\n",
            "Total expenses: Rs490.00\n",
            "\n",
            "Expense Tracking System\n",
            "1. Add an expense\n",
            "2. View all expenses\n",
            "3. Calculate total expenses\n",
            "4. Exit\n",
            "Enter your choice: 2\n",
            "Expenses:\n",
            "1. pizza - Rs400.00\n",
            "2. coke - Rs90.00\n",
            "\n",
            "Expense Tracking System\n",
            "1. Add an expense\n",
            "2. View all expenses\n",
            "3. Calculate total expenses\n",
            "4. Exit\n",
            "Enter your choice: 3\n",
            "Total expenses: Rs490.00\n",
            "\n",
            "Expense Tracking System\n",
            "1. Add an expense\n",
            "2. View all expenses\n",
            "3. Calculate total expenses\n",
            "4. Exit\n",
            "Enter your choice: 4\n",
            "Thank you for using the Expense Tracking System. Goodbye!\n"
          ]
        }
      ],
      "source": [
        "# Expense Tracking System\n",
        "\n",
        "# Initialize expenses data\n",
        "expenses = []\n",
        "\n",
        "# Function to add an expense\n",
        "def add_expense(description, amount):\n",
        "    expense = {\"description\": description, \"amount\": amount}\n",
        "    expenses.append(expense)\n",
        "    print('Expense',description,'of {} added.'.format(amount))\n",
        "\n",
        "# Function to view all expenses\n",
        "def view_expenses():\n",
        "    if not expenses:\n",
        "        print(\"No expenses recorded.\")\n",
        "    else:\n",
        "        print(\"Expenses:\")\n",
        "        count = 1\n",
        "        for expense in expenses:\n",
        "            print(f\"{count}. {expense['description']} - Rs{expense['amount']}\")\n",
        "            count += 1\n",
        "\n",
        "# Function to calculate total expenses\n",
        "def calculate_total():\n",
        "    total = sum(expense['amount'] for expense in expenses)\n",
        "    print(f\"Total expenses: Rs{total:.2f}\")\n",
        "\n",
        "# Main program loop\n",
        "while True:\n",
        "    print(\"\\nExpense Tracking System\")\n",
        "    print(\"1. Add an expense\")\n",
        "    print(\"2. View all expenses\")\n",
        "    print(\"3. Calculate total expenses\")\n",
        "    print(\"4. Exit\")\n",
        "\n",
        "    choice = int(input(\"Enter your choice: \"))\n",
        "\n",
        "    if choice == 1:\n",
        "        description = input(\"Enter a description for the expense: \")\n",
        "        amount = float(input(\"Enter the amount of the expense: \"))\n",
        "        add_expense(description, amount)\n",
        "    elif choice == 2:\n",
        "        view_expenses()\n",
        "    elif choice == 3:\n",
        "        calculate_total()\n",
        "    elif choice == 4:\n",
        "        print(\"Thank you for using the Expense Tracking System. Goodbye!\")\n",
        "        break\n",
        "    else:\n",
        "        print(\"Invalid choice. Please select a valid option.\")\n"
      ]
    }
  ]
}