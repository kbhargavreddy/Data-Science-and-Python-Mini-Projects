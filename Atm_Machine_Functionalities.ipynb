{
  "cells": [
    {
      "cell_type": "markdown",
      "metadata": {
        "id": "nooYe73Ta4KP"
      },
      "source": [
        "PROJECT to create an atm machine functionalities.\n",
        "1. validate the user pin\n",
        "2. check balance\n",
        "3. withdraw amount\n",
        "4. add amount\n",
        "\n",
        "\n",
        "\n",
        "Changes to accomodate:\n",
        "1. validating user same\n",
        "2. if present validate pin\n",
        "\n",
        "steps:\n",
        "pins=[{ \"userid\":\"name\",\n",
        "             \"pin\":number}, { \"userid\":\"name\",\n",
        "             \"pin\":number}]\n"
      ]
    },
    {
      "cell_type": "code",
      "execution_count": null,
      "metadata": {
        "colab": {
          "base_uri": "https://localhost:8080/"
        },
        "id": "YWAhNCosaz1R",
        "outputId": "9e8518bc-5294-44fc-e498-42c5867b74d3"
      },
      "outputs": [
        {
          "output_type": "stream",
          "name": "stdout",
          "text": [
            "\n",
            "WELCOME TO THE ATM....\n",
            "\n",
            "Enter your Pin 1234\n",
            "\n",
            " 1.addamount 2.withdraw 3.checkbalance 4.Exit \n",
            "enter your choice 1\n",
            "Enter the amount 5000\n",
            "successfully added to your account\n",
            "\n",
            " 1.addamount 2.withdraw 3.checkbalance 4.Exit \n",
            "enter your choice 2\n",
            "Enter the amount 2000\n",
            "Rs 2000 has been deducted\n",
            "\n",
            " 1.addamount 2.withdraw 3.checkbalance 4.Exit \n",
            "enter your choice 3\n",
            "Your amount is 3000\n",
            "\n",
            " 1.addamount 2.withdraw 3.checkbalance 4.Exit \n",
            "enter your choice 2\n",
            "Enter the amount 5000\n",
            "----------------------------\n",
            "| Cannot perform Deduction |\n",
            "----------------------------\n",
            "YOUR BALANCE IS 3000\n",
            "\n",
            " 1.addamount 2.withdraw 3.checkbalance 4.Exit \n",
            "enter your choice 4\n",
            "THANK YOU FOR USING OUR SERVICES\n"
          ]
        }
      ],
      "source": [
        "#Mini ATM machine Functionalities\n",
        "\n",
        "famount=0\n",
        "\n",
        "#Function to add money (deposite)\n",
        "def depositeamount(amount):\n",
        "  global famount\n",
        "  famount=famount+amount\n",
        "  print(\"successfully added to your account\")\n",
        "\n",
        "#Function to withdraw money\n",
        "def withdraw(amount):\n",
        "  global famount\n",
        "  if(famount<amount):  #checking the amount if it is possible to deduct the money\n",
        "    print(\"----------------------------\")\n",
        "    print(\"| Cannot perform Deduction |\")\n",
        "    print(\"----------------------------\")\n",
        "    print(\"YOUR BALANCE IS\",famount)\n",
        "  else:\n",
        "    famount-=amount\n",
        "    print(\"Rs {} has been deducted\".format(amount))\n",
        "\n",
        "#Function to check balance\n",
        "def checkbalance():\n",
        "  global famount\n",
        "  print(\"Your amount is\",famount)\n",
        "\n",
        "\n",
        "#pin initialization\n",
        "pin=1234\n",
        "\n",
        "#greetings\n",
        "print(\"\\nWELCOME TO THE ATM....\")\n",
        "\n",
        "#pin input\n",
        "pin=int(input(\"\\nEnter your Pin \"))\n",
        "\n",
        "if(pin==1234): #validating pin\n",
        "\n",
        "#Main code\n",
        "  while(True):\n",
        "\n",
        "      print(\"\\n 1.addamount 2.withdraw 3.checkbalance 4.Exit \")\n",
        "\n",
        "      choice=int(input(\"enter your choice \"))\n",
        "      if(choice==1):\n",
        "        amount=int(input(\"Enter the amount \"))\n",
        "        depositeamount(amount)\n",
        "      elif(choice==2):\n",
        "        amount=int(input(\"Enter the amount \"))\n",
        "        withdraw(amount)\n",
        "      elif(choice==3):\n",
        "        checkbalance()\n",
        "      elif(choice==4):\n",
        "        print(\"THANK YOU FOR USING OUR SERVICES\")\n",
        "        break\n",
        "      else:\n",
        "        print(\"Invaid choice\")\n",
        "else:\n",
        "    print(\"WRONG PIN\")\n",
        "\n",
        "\n",
        "\n",
        "\n",
        "\n",
        "\n"
      ]
    }
  ],
  "metadata": {
    "colab": {
      "provenance": []
    },
    "kernelspec": {
      "display_name": "Python 3",
      "name": "python3"
    },
    "language_info": {
      "name": "python"
    }
  },
  "nbformat": 4,
  "nbformat_minor": 0
}