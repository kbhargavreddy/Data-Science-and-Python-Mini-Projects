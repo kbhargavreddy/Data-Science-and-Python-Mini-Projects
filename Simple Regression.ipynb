{
  "nbformat": 4,
  "nbformat_minor": 0,
  "metadata": {
    "colab": {
      "name": "assignment-2",
      "provenance": [],
      "collapsed_sections": []
    },
    "kernelspec": {
      "name": "python3",
      "display_name": "Python 3"
    },
    "language_info": {
      "name": "python"
    }
  },
  "cells": [
    {
      "cell_type": "code",
      "source": [
        "import numpy as np\n",
        "import pandas as pd\n",
        "import matplotlib.pyplot as plt\n"
      ],
      "metadata": {
        "id": "t0XcTaYxyASF"
      },
      "execution_count": 1,
      "outputs": []
    },
    {
      "cell_type": "code",
      "source": [
        "d={\n",
        "    \"city name\":['toronto','bathrust','cessnock','orange','teamwork','liverpool'],\n",
        "    \"per capital income\":[8.6,9.3,10.2,8.0,8.3,8.7],\n",
        "   \"death rate per 1000 residents\":[8.4,7.6,5.4,10.6,8.3,9.3]\n",
        "    }\n",
        "df=pd.DataFrame(d)\n",
        "df\n",
        "\n",
        "x=df['per capital income']\n",
        "y=df['death rate per 1000 residents']\n",
        "x=np.array(x).reshape(-1,1)\n",
        "y=np.array(y).reshape(-1,1)"
      ],
      "metadata": {
        "id": "HbZZ83KIyQZd"
      },
      "execution_count": 2,
      "outputs": []
    },
    {
      "cell_type": "code",
      "execution_count": 6,
      "metadata": {
        "colab": {
          "base_uri": "https://localhost:8080/",
          "height": 300
        },
        "id": "SQULqGTz3vhG",
        "outputId": "5e3c5de4-f546-49dc-9a41-81d92ec24eb1"
      },
      "outputs": [
        {
          "output_type": "stream",
          "name": "stdout",
          "text": [
            "0.898805211260186\n"
          ]
        },
        {
          "output_type": "execute_result",
          "data": {
            "text/plain": [
              "[<matplotlib.lines.Line2D at 0x7fd500ab3110>]"
            ]
          },
          "metadata": {},
          "execution_count": 6
        },
        {
          "output_type": "display_data",
          "data": {
            "text/plain": [
              "<Figure size 432x288 with 1 Axes>"
            ],
            "image/png": "[encoded data removed]"
          },
          "metadata": {
            "needs_background": "light"
          }
        }
      ],
      "source": [
        "from sklearn.linear_model import LinearRegression\n",
        "from sklearn.model_selection import train_test_split\n",
        "\n",
        "x_train,x_test,y_train,y_test=train_test_split(x,y,test_size=0.25)\n",
        "l=LinearRegression()\n",
        "l.fit(x_train,y_train)\n",
        "pred=l.predict(x_test)\n",
        "pred\n",
        "from sklearn.metrics import r2_score\n",
        "print(r2_score(y_test,pred))\n",
        "plt.plot(y_test,pred)\n"
      ]
    }
  ]
}